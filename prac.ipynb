{
 "cells": [
  {
   "cell_type": "code",
   "execution_count": 1,
   "metadata": {},
   "outputs": [],
   "source": [
    "\n",
    "\n",
    "import sqlite3\n",
    "\n",
    "conn = sqlite3.connect('test.db')\n",
    "\n",
    "cur = conn.cursor()\n"
   ]
  },
  {
   "cell_type": "code",
   "execution_count": 2,
   "metadata": {},
   "outputs": [
    {
     "name": "stdout",
     "output_type": "stream",
     "text": [
      "('불닭', '양파', 2, '개', 2000)\n",
      "('불닭', '닭', 1, '마리', 6000)\n",
      "('불닭', '파', 2, '개', 600)\n",
      "('오징어볶음', '오징어', 3, '마리', 15000)\n",
      "('오징어볶음', '파', 2, '개', 600)\n",
      "('오징어볶음', '양파', 3, '개', 3000)\n",
      "('오징어볶음', '고추', 2, '개', 2000)\n"
     ]
    }
   ],
   "source": [
    "from diet_app.model import db"
   ]
  },
  {
   "cell_type": "code",
   "execution_count": 18,
   "metadata": {},
   "outputs": [],
   "source": [
    "aa = db.print_recipe()"
   ]
  },
  {
   "cell_type": "code",
   "execution_count": 19,
   "metadata": {},
   "outputs": [
    {
     "name": "stdout",
     "output_type": "stream",
     "text": [
      "('불닭', '양파', 2, '개', 2000)\n",
      "('불닭', '닭', 1, '마리', 6000)\n",
      "('불닭', '파', 2, '개', 600)\n"
     ]
    }
   ],
   "source": [
    "for i in aa:\n",
    "    if i[0] == '불닭':\n",
    "        print(i)"
   ]
  }
 ],
 "metadata": {
  "kernelspec": {
   "display_name": "Python 3.9.12 ('base')",
   "language": "python",
   "name": "python3"
  },
  "language_info": {
   "codemirror_mode": {
    "name": "ipython",
    "version": 3
   },
   "file_extension": ".py",
   "mimetype": "text/x-python",
   "name": "python",
   "nbconvert_exporter": "python",
   "pygments_lexer": "ipython3",
   "version": "3.9.12"
  },
  "orig_nbformat": 4,
  "vscode": {
   "interpreter": {
    "hash": "09fd92f4917d9b2c8fe0c688cf94d0da41e45b219826cb9ec1800209110ff61a"
   }
  }
 },
 "nbformat": 4,
 "nbformat_minor": 2
}
